{
  "cells": [
    {
      "cell_type": "markdown",
      "metadata": {
        "id": "rfN9V50rnfwT"
      },
      "source": [
        "#**Text_Splitter**"
      ]
    },
    {
      "cell_type": "markdown",
      "metadata": {
        "id": "rD9nD5I4n0FL"
      },
      "source": [
        "##**CharacterTextSplitter**"
      ]
    },
    {
      "cell_type": "markdown",
      "metadata": {
        "id": "AwzpYEvOU8A5"
      },
      "source": [
        "Le CharacterTextSplitter est une fonction conçue pour découper un texte en segments plus petits en utilisant une approche basée sur les caractères. Contrairement à une méthode récursive complexe, le CharacterTextSplitter suit généralement une approche plus simple et directe pour diviser le texte.\n",
        "\n",
        "Voici comment il fonctionne en pratique :\n",
        "  * **Initialisation :** Lors de la création d'une instance de CharacterTextSplitter, des paramètres tels que la taille maximale des segments de texte et les critères de séparation sont définis.\n",
        "  * **Parcours du texte :** Le CharacterTextSplitter parcourt le texte de manière linéaire, en commençant par le début et en avançant caractère par caractère.\n",
        "  * **Recherche de séparateurs :** À chaque étape, la fonction vérifie si le caractère actuel est un des séparateurs spécifiés (par exemple, un espace, un point, une virgule, etc.).\n",
        "  * **Création des segments :** Lorsque le CharacterTextSplitter rencontre un séparateur, il marque la fin d'un segment de texte et commence un nouveau segment à partir du caractère suivant. Si la longueur maximale d'un segment est atteinte avant de trouver un séparateur, le segment est coupé à cet endroit, même si ce n'est pas idéal.\n",
        "  * **Gestion des longueurs maximales :** Si le texte entre deux séparateurs dépasse la longueur maximale spécifiée, le CharacterTextSplitter peut forcer une coupure au caractère le plus proche de la longueur maximale, même si cela signifie couper un mot ou une phrase en deux.\n",
        "  * **Assemblage des segments :** Les segments créés sont collectés dans une liste ou une autre structure de données appropriée pour être retournés à la fin du processus.\n",
        "  * **Finalisation :** Une fois que le texte entier a été parcouru et découpé, la fonction retourne tous les segments collectés."
      ]
    },
    {
      "cell_type": "code",
      "execution_count": null,
      "metadata": {
        "id": "7oAdEiHuh_2m"
      },
      "outputs": [],
      "source": [
        "! pip install -qU langchain-text-splitters"
      ]
    },
    {
      "cell_type": "code",
      "execution_count": null,
      "metadata": {
        "colab": {
          "base_uri": "https://localhost:8080/"
        },
        "id": "fJtijd8tiJZ5",
        "outputId": "ac2d8830-ca3a-444c-d751-3d9bb1e5a26a"
      },
      "outputs": [
        {
          "name": "stdout",
          "output_type": "stream",
          "text": [
            "After split, there were 4 documents (chunks).\n",
            "page_content='Le droit des affaires, ou droit commercial, régit les relations juridiques entre les entreprises et leurs partenaires.\n",
            " Il inclut des domaines variés tels que le droit des sociétés, le droit des contrats commerciaux, et le droit de la concurrence.'\n"
          ]
        }
      ],
      "source": [
        "from langchain_text_splitters import CharacterTextSplitter\n",
        "\n",
        "text = [\"Le droit des affaires, ou droit commercial, régit les relations juridiques entre les entreprises et leurs partenaires.\\n Il inclut des domaines variés tels que le droit des sociétés, le droit des contrats commerciaux, et le droit de la concurrence.\\n Ce cadre juridique vise à garantir des transactions équitables et à protéger les intérêts des différentes parties prenantes.\\n\\nLes entreprises doivent se conformer à diverses réglementations pour assurer leur fonctionnement légal.\\n Cela comprend l'obtention de licences appropriées, le respect des lois sur la protection des données et la propriété intellectuelle, et l'adhésion aux normes de responsabilité sociale des entreprises.\\n En cas de litige, les entreprises peuvent recourir à des procédures judiciaires ou à des méthodes alternatives de résolution des conflits comme l'arbitrage ou la médiation.\"]\n",
        "\n",
        "text_splitter = CharacterTextSplitter(\n",
        "                                  separator=\"\\n\",\n",
        "                                  chunk_size=300,\n",
        "                                  chunk_overlap=0,\n",
        "                                  length_function=len,\n",
        "                                  is_separator_regex=False,\n",
        "                                    )\n",
        "\n",
        "texts = text_splitter.create_documents(text)\n",
        "\n",
        "print(f'After split, there were {len(texts)} documents (chunks).')\n",
        "print(texts[0])"
      ]
    },
    {
      "cell_type": "markdown",
      "metadata": {
        "id": "6JZojtJann7-"
      },
      "source": [
        "##**RecursiveCharacterTextSplitter**\n"
      ]
    },
    {
      "cell_type": "markdown",
      "metadata": {
        "id": "XJ--orCdNQ_R"
      },
      "source": [
        "Le RecursiveCharacterTextSplitter est une fonction conçue pour découper un texte de manière récursive en utilisant une liste spécifique de séparateurs (par défaut [\"\\n\\n\", \"\\n\", \" \", \"\"]). Son fonctionnement repose sur une méthode itérative qui explore le texte à partir du début jusqu'à ce qu'il atteigne une taille maximale définie ou jusqu'à ce qu'il ne trouve plus de séparateurs pertinents.\n",
        "Voici comment il fonctionne en pratique :\n",
        "\n",
        "  * **Initialisation :** Une instance de RecursiveCharacterTextSplitter est créée en spécifiant les séparateurs et éventuellement d'autres paramètres comme la longueur maximale d'un segment de texte.\n",
        "\n",
        "  * **Découpage récursif :** À chaque itération, la fonction explore le texte à partir du début. Elle cherche le premier séparateur dans la liste spécifiée (\"\\n\\n\", \"\\n\", etc.).\n",
        "\n",
        "  * **Division du texte :** Lorsqu'un séparateur est trouvé, le texte est divisé en deux parties à cet endroit. La première partie devient un segment indépendant.\n",
        "\n",
        "  * **Récursion :** La fonction continue à explorer récursivement la deuxième partie du texte. Elle recherche à nouveau les séparateurs pour diviser cette partie en segments plus petits.\n",
        "\n",
        "  * **Assemblage des résultats :** Chaque fois qu'un segment est identifié (soit parce qu'il est suffisamment petit, soit parce qu'il n'y a pas de séparateurs restants), il est ajouté à une liste de segments.\n",
        "\n",
        "  * **Retour des résultats :** Une fois que toute la récursion est terminée et que tous les segments sont collectés, ils sont retournés sous forme de liste ou d'une autre structure de données selon l'implémentation spécifique."
      ]
    },
    {
      "cell_type": "code",
      "execution_count": null,
      "metadata": {
        "id": "Z93iI2Gzhb4U"
      },
      "outputs": [],
      "source": [
        "! pip install -qU langchain-text-splitters"
      ]
    },
    {
      "cell_type": "code",
      "execution_count": null,
      "metadata": {
        "colab": {
          "base_uri": "https://localhost:8080/"
        },
        "id": "ZXNofJV4ktWa",
        "outputId": "0ec9051e-f7ff-4356-83ff-900d034f8ae4"
      },
      "outputs": [
        {
          "name": "stdout",
          "output_type": "stream",
          "text": [
            "After split, there were 5 documents (chunks).\n",
            "page_content='Le droit des affaires, ou droit commercial, régit les relations juridiques entre les entreprises et leurs partenaires.\n",
            " Il inclut des domaines variés tels que le droit des sociétés, le droit des contrats commerciaux, et le droit de la concurrence.'\n"
          ]
        }
      ],
      "source": [
        "from langchain_text_splitters import RecursiveCharacterTextSplitter\n",
        "\n",
        "text = [\"Le droit des affaires, ou droit commercial, régit les relations juridiques entre les entreprises et leurs partenaires.\\n Il inclut des domaines variés tels que le droit des sociétés, le droit des contrats commerciaux, et le droit de la concurrence.\\n Ce cadre juridique vise à garantir des transactions équitables et à protéger les intérêts des différentes parties prenantes.\\n\\nLes entreprises doivent se conformer à diverses réglementations pour assurer leur fonctionnement légal.\\n Cela comprend l'obtention de licences appropriées, le respect des lois sur la protection des données et la propriété intellectuelle, et l'adhésion aux normes de responsabilité sociale des entreprises.\\n En cas de litige, les entreprises peuvent recourir à des procédures judiciaires ou à des méthodes alternatives de résolution des conflits comme l'arbitrage ou la médiation.\"]\n",
        "\n",
        "text_splitter = RecursiveCharacterTextSplitter(\n",
        "                                              chunk_size=300,\n",
        "                                              chunk_overlap=0,\n",
        "                                              length_function=len,\n",
        "                                              is_separator_regex=False,\n",
        "                                              )\n",
        "\n",
        "texts = text_splitter.create_documents(text)\n",
        "\n",
        "print(f'After split, there were {len(texts)} documents (chunks).')\n",
        "print(texts[0])"
      ]
    },
    {
      "cell_type": "markdown",
      "metadata": {
        "id": "dzbGKzYmn-sX"
      },
      "source": [
        "##**SemanticChunker**"
      ]
    },
    {
      "cell_type": "markdown",
      "metadata": {
        "id": "EctVB5szaLMK"
      },
      "source": [
        "Le SemanticChunker est une fonction conçue pour diviser un texte en segments basés sur la sémantique du contenu. IL utilise une compréhension plus approfondie du texte pour créer des segments qui respectent les unités de sens, telles que les phrases, les paragraphes ou les sections thématiques.\n",
        "\n",
        "Fonctionnement du SemanticChunker\n",
        "  * **Initialisation :** Lors de la création d'une instance de SemanticChunker, des paramètres tels que la longueur maximale d'un segment, des séparateurs, et potentiellement des modèles ou des algorithmes de traitement du langage naturel (NLP) pour analyser le texte sont spécifiés.\n",
        "  * **Analyse du texte :** Le SemanticChunker commence par analyser le texte à un niveau plus élevé que les simples caractères. Il peut utiliser des techniques de traitement du langage naturel pour identifier les phrases, les clauses, les paragraphes, ou même les thématiques.\n",
        "  * **Détection des unités de sens :** La fonction identifie des unités de sens dans le texte, telles que des phrases complètes, des paragraphes ou des sections thématiques. Cela permet de s'assurer que les segments générés sont cohérents et significatifs.\n",
        "  * **Création des segments :** En utilisant les unités de sens identifiées, le SemanticChunker divise le texte en segments qui respectent la longueur maximale spécifiée. Toutefois, il fait de son mieux pour ne pas couper les unités de sens de manière arbitraire.Par exemple, il évitera de couper une phrase ou un paragraphe en deux si cela peut être évité.\n",
        "  * **Utilisation de modèles NLP :** Le SemanticChunker peut utiliser des modèles de NLP pour améliorer la segmentation. Ces modèles peuvent inclure des analyseurs syntaxiques, des détecteurs de limites de phrases, ou même des modèles de compréhension de la langue qui reconnaissent les thématiques ou les contextes.\n",
        "  * **Assemblage des segments :** Les segments créés sont collectés dans une liste ou une autre structure de données appropriée pour être retournés à la fin du processus.\n",
        "  * **Finalisation :** Une fois que le texte entier a été analysé et découpé en segments sémantiquement cohérents, la fonction retourne tous les segments collectés."
      ]
    },
    {
      "cell_type": "code",
      "execution_count": null,
      "metadata": {
        "id": "IJsvMt8KmrYc"
      },
      "outputs": [],
      "source": [
        "! pip install --quiet langchain_experimental\n",
        "! pip install langchain-community\n",
        "! pip install sentence_transformers"
      ]
    },
    {
      "cell_type": "code",
      "execution_count": null,
      "metadata": {
        "id": "a1NV2qypoWhb"
      },
      "outputs": [],
      "source": [
        "from langchain_community.embeddings import HuggingFaceBgeEmbeddings\n",
        "\n",
        "huggingface_embeddings = HuggingFaceBgeEmbeddings(\n",
        "                              model_name=\"sentence-transformers/all-MiniLM-l6-v2\",\n",
        "                              model_kwargs={'device':'cpu'},\n",
        "                              encode_kwargs={'normalize_embeddings': True}\n",
        "                              )"
      ]
    },
    {
      "cell_type": "code",
      "execution_count": null,
      "metadata": {
        "colab": {
          "base_uri": "https://localhost:8080/"
        },
        "id": "UVqSakfOmrHP",
        "outputId": "e97ba472-9f07-4d9c-8e90-1528a7905766"
      },
      "outputs": [
        {
          "name": "stdout",
          "output_type": "stream",
          "text": [
            "After split, there were 2 documents (chunks).\n",
            "page_content='Le droit des affaires, ou droit commercial, régit les relations juridiques entre les entreprises et leurs partenaires. Il inclut des domaines variés tels que le droit des sociétés, le droit des contrats commerciaux, et le droit de la concurrence. Ce cadre juridique vise à garantir des transactions équitables et à protéger les intérêts des différentes parties prenantes.'\n"
          ]
        }
      ],
      "source": [
        "from langchain_experimental.text_splitter import SemanticChunker\n",
        "\n",
        "text = [\"Le droit des affaires, ou droit commercial, régit les relations juridiques entre les entreprises et leurs partenaires.\\n Il inclut des domaines variés tels que le droit des sociétés, le droit des contrats commerciaux, et le droit de la concurrence.\\n Ce cadre juridique vise à garantir des transactions équitables et à protéger les intérêts des différentes parties prenantes.\\n\\nLes entreprises doivent se conformer à diverses réglementations pour assurer leur fonctionnement légal.\\n Cela comprend l'obtention de licences appropriées, le respect des lois sur la protection des données et la propriété intellectuelle, et l'adhésion aux normes de responsabilité sociale des entreprises.\\n En cas de litige, les entreprises peuvent recourir à des procédures judiciaires ou à des méthodes alternatives de résolution des conflits comme l'arbitrage ou la médiation.\"]\n",
        "\n",
        "\n",
        "text_splitter = SemanticChunker(\n",
        "                                huggingface_embeddings,\n",
        "                                breakpoint_threshold_type=\"percentile\" # can be replaced by \"standard_deviation\", \"interquartile\" or \"gradient\"\n",
        "                                )\n",
        "\n",
        "texts = text_splitter.create_documents(text)\n",
        "\n",
        "print(f'After split, there were {len(texts)} documents (chunks).')\n",
        "print(texts[0])"
      ]
    },
    {
      "cell_type": "markdown",
      "metadata": {
        "id": "9N5g9mN_oDQK"
      },
      "source": [
        "##**AI21SemanticTextSplitter**"
      ]
    },
    {
      "cell_type": "markdown",
      "metadata": {
        "id": "zqUuGAbHkSTC"
      },
      "source": [
        "Le AI21SemanticTextSplitter est une fonction qui divise un texte en segments plus petits en utilisant des techniques avancées d'intelligence artificielle et de traitement du langage naturel (NLP) développées par AI21 Labs. Contrairement aux méthodes basiques qui se basent uniquement sur les séparateurs de caractères ou les longueurs fixes, le AI21SemanticTextSplitter utilise des algorithmes sophistiqués pour comprendre la structure et le sens du texte, afin de produire des segments cohérents et significatifs.\n",
        "\n",
        "Fonctionnement du AI21SemanticTextSplitter\n",
        "  * **Initialisation :** Lors de la création d'une instance de AI21SemanticTextSplitter, des paramètres tels que la longueur maximale des segments et éventuellement des options de configuration pour les modèles NLP utilisés sont spécifiés.\n",
        "  * **Analyse du texte :** Le AI21SemanticTextSplitter commence par analyser le texte en utilisant des modèles d'intelligence artificielle fournis par AI21 Labs. Ces modèles sont capables de comprendre la syntaxe, la sémantique, et la structure du texte à un niveau avancé.\n",
        "  * **Détection des unités sémantiques :** L'outil identifie les unités sémantiques du texte, telles que les phrases, les paragraphes, et les sections thématiques. Il peut également comprendre les relations entre les différentes parties du texte pour maintenir la cohérence.\n",
        "  * **Segmentation basée sur le sens :** En utilisant les informations obtenues lors de l'analyse, le AI21SemanticTextSplitter divise le texte en segments qui respectent les unités de sens. Cela signifie que chaque segment est une portion cohérente et compréhensible du texte original. La segmentation s'efforce de ne pas couper les phrases ou les idées en deux, même si cela signifie légèrement dépasser la longueur maximale spécifiée.\n",
        "  * **Utilisation de modèles AI21 :** Les modèles d'AI21 Labs, tels que ceux utilisés dans leur suite d'outils NLP, sont intégrés pour offrir une segmentation sémantiquement précise. Ces modèles sont entraînés sur de vastes ensembles de données pour comprendre le contexte et la signification des mots et des phrases.\n",
        "  * **Assemblage des segments :** Les segments créés sont collectés dans une liste ou une autre structure de données appropriée. Chaque segment est conçu pour être autonome et sémantiquement cohérent.\n",
        "  * **Finalisation :** Une fois que le texte entier a été segmenté, la fonction retourne tous les segments sous une forme utilisable, généralement une liste de chaînes de texte."
      ]
    },
    {
      "cell_type": "code",
      "execution_count": null,
      "metadata": {
        "id": "uqybwIZuoFFw"
      },
      "outputs": [],
      "source": [
        "! pip install langchain-ai21"
      ]
    },
    {
      "cell_type": "code",
      "execution_count": null,
      "metadata": {
        "colab": {
          "base_uri": "https://localhost:8080/"
        },
        "id": "sHObsmJzoE5L",
        "outputId": "4043da76-e319-4edb-985a-86062530fca1"
      },
      "outputs": [
        {
          "name": "stdout",
          "output_type": "stream",
          "text": [
            "After split, there were 1 documents (chunks).\n",
            "page_content='Le droit des affaires, ou droit commercial, régit les relations juridiques entre les entreprises et leurs partenaires.\n",
            " Il inclut des domaines variés tels que le droit des sociétés, le droit des contrats commerciaux, et le droit de la concurrence.\n",
            " Ce cadre juridique vise à garantir des transactions équitables et à protéger les intérêts des différentes parties prenantes.\n",
            "\n",
            "Les entreprises doivent se conformer à diverses réglementations pour assurer leur fonctionnement légal.\n",
            " Cela comprend l'obtention de licences appropriées, le respect des lois sur la protection des données et la propriété intellectuelle, et l'adhésion aux normes de responsabilité sociale des entreprises.\n",
            " En cas de litige, les entreprises peuvent recourir à des procédures judiciaires ou à des méthodes alternatives de résolution des conflits comme l'arbitrage ou la médiation.' metadata={'source_type': 'non_english'}\n"
          ]
        }
      ],
      "source": [
        "import os\n",
        "os.environ[\"AI21_API_KEY\"] = \" \" # https://studio.ai21.com/sign-up  link for an API_KEY\n",
        "from langchain_ai21 import AI21SemanticTextSplitter\n",
        "from langchain_core.documents import Document\n",
        "\n",
        "text = [\"Le droit des affaires, ou droit commercial, régit les relations juridiques entre les entreprises et leurs partenaires.\\n Il inclut des domaines variés tels que le droit des sociétés, le droit des contrats commerciaux, et le droit de la concurrence.\\n Ce cadre juridique vise à garantir des transactions équitables et à protéger les intérêts des différentes parties prenantes.\\n\\nLes entreprises doivent se conformer à diverses réglementations pour assurer leur fonctionnement légal.\\n Cela comprend l'obtention de licences appropriées, le respect des lois sur la protection des données et la propriété intellectuelle, et l'adhésion aux normes de responsabilité sociale des entreprises.\\n En cas de litige, les entreprises peuvent recourir à des procédures judiciaires ou à des méthodes alternatives de résolution des conflits comme l'arbitrage ou la médiation.\"]\n",
        "\n",
        "semantic_text_splitter = AI21SemanticTextSplitter()\n",
        "texts = semantic_text_splitter.create_documents(text)\n",
        "\n",
        "print(f'After split, there were {len(texts)} documents (chunks).')\n",
        "print(texts[0])"
      ]
    },
    {
      "cell_type": "markdown",
      "metadata": {
        "id": "J9OIS-Lko-iA"
      },
      "source": [
        "##**NLTKTextSplitter**"
      ]
    },
    {
      "cell_type": "markdown",
      "metadata": {
        "id": "nd1NSwJ20D7C"
      },
      "source": [
        "L'algorithme de `NLTKTextSplitter`, utilisé notamment dans la bibliothèque LangChain pour diviser les textes en morceaux gérables, repose sur une combinaison de techniques de traitement de texte et de segmentation basées sur les caractéristiques linguistiques.\n",
        "\n",
        "Fonctionnement de l'algorithme `NLTKTextSplitter` :\n",
        "\n",
        "  * **Tokenization** : la première étape consiste à diviser le texte en unités de base appelées tokens. Cela peut inclure des mots, des phrases, des paragraphes, ou des entités plus complexes. NLTK (Natural Language Toolkit) offre des fonctions de tokenization efficaces pour différentes granularités (mots, phrases, etc.). Par exemple, la tokenization en phrases utilise des délimiteurs comme les points, les points d'interrogation, et les points d'exclamation.\n",
        "\n",
        "  * **Segmentation** : une fois le texte tokenisé, l'algorithme segmente le texte en morceaux de taille appropriée. Cette segmentation tient compte de la longueur du texte et des contraintes de taille imposées (par exemple, un nombre maximum de tokens par segment). La segmentation cherche à ne pas casser les structures linguistiques importantes, comme les phrases ou les paragraphes, pour conserver la cohérence et la lisibilité des segments.\n",
        "\n",
        "  * **Respect des limites de longueur** : lors de la segmentation, l'algorithme s'assure que chaque segment respecte les limites de longueur définies, que ce soit en termes de nombre de tokens ou de caractères. Si un segment dépasse la limite spécifiée, l'algorithme essaie de trouver un point de coupe naturel (comme la fin d'une phrase) proche de cette limite.\n",
        "\n",
        "  * **Utilisation de techniques linguistiques** : l'algorithme utilise des techniques linguistiques avancées pour éviter de couper des entités importantes ou des constructions syntaxiques complexes. Par exemple, il peut éviter de couper des noms propres ou des expressions figées.\n",
        "\n",
        "  * **Recours à des heuristiques** : en plus des règles linguistiques, l'algorithme peut utiliser des heuristiques pour affiner la segmentation. Par exemple, il peut prioriser la segmentation aux endroits où des indices ponctuations lourdes (comme des paragraphes) sont présents.\n",
        "\n",
        "\n"
      ]
    },
    {
      "cell_type": "code",
      "execution_count": null,
      "metadata": {
        "id": "1VXLJwUkpVrU"
      },
      "outputs": [],
      "source": [
        "!pip install nltk"
      ]
    },
    {
      "cell_type": "code",
      "execution_count": null,
      "metadata": {
        "colab": {
          "base_uri": "https://localhost:8080/"
        },
        "id": "c6M-iq-_o-Hn",
        "outputId": "82345248-1341-417c-c9e0-d4bfd2c3fdaf"
      },
      "outputs": [
        {
          "name": "stdout",
          "output_type": "stream",
          "text": [
            "After split, there were 4 documents (chunks).\n",
            "page_content='Le droit des affaires, ou droit commercial, régit les relations juridiques entre les entreprises et leurs partenaires.\n",
            "\n",
            "Il inclut des domaines variés tels que le droit des sociétés, le droit des contrats commerciaux, et le droit de la concurrence.' metadata={'source': 'droit du business'}\n"
          ]
        },
        {
          "name": "stderr",
          "output_type": "stream",
          "text": [
            "[nltk_data] Downloading package punkt to /root/nltk_data...\n",
            "[nltk_data]   Package punkt is already up-to-date!\n"
          ]
        }
      ],
      "source": [
        "import nltk\n",
        "from langchain_text_splitters import NLTKTextSplitter\n",
        "from langchain_core.documents import Document\n",
        "\n",
        "text = \"Le droit des affaires, ou droit commercial, régit les relations juridiques entre les entreprises et leurs partenaires.\\n Il inclut des domaines variés tels que le droit des sociétés, le droit des contrats commerciaux, et le droit de la concurrence.\\n Ce cadre juridique vise à garantir des transactions équitables et à protéger les intérêts des différentes parties prenantes.\\n\\nLes entreprises doivent se conformer à diverses réglementations pour assurer leur fonctionnement légal.\\n Cela comprend l'obtention de licences appropriées, le respect des lois sur la protection des données et la propriété intellectuelle, et l'adhésion aux normes de responsabilité sociale des entreprises.\\n En cas de litige, les entreprises peuvent recourir à des procédures judiciaires ou à des méthodes alternatives de résolution des conflits comme l'arbitrage ou la médiation.\"\n",
        "\n",
        "text_to_split = [Document(page_content=text, metadata={\"source\":\"droit du business\"})]\n",
        "\n",
        "nltk.download('punkt')\n",
        "\n",
        "text_splitter = NLTKTextSplitter(chunk_size = 300, chunk_overlap = 0)\n",
        "texts = text_splitter.split_documents(text_to_split)\n",
        "\n",
        "print(f'After split, there were {len(texts)} documents (chunks).')\n",
        "print(texts[0])"
      ]
    },
    {
      "cell_type": "markdown",
      "metadata": {
        "id": "n11Hmrj6tKYQ"
      },
      "source": [
        "##**SpacyTextSplitter**"
      ]
    },
    {
      "cell_type": "markdown",
      "metadata": {
        "id": "Yuq5L1Pw03YM"
      },
      "source": [
        "`SpacyTextSplitter` est un autre algorithme de segmentation de texte, souvent utilisé avec la bibliothèque spaCy pour le traitement du langage naturel.\n",
        "\n",
        "Fonctionement de l'algorithme `SpacyTextSplitter` :\n",
        "\n",
        "  * **Tokenization et Analyse Linguistique** : SpaCy commence par charger un modèle linguistique adapté à la langue du texte à traiter. Ce modèle est utilisé pour effectuer la tokenization, c'est-à-dire la division du texte en unités de base telles que les mots, les phrases et les entités nommées. SpaCy offre des capacités avancées d'analyse linguistique, notamment le POS tagging (étiquetage des parties du discours), la reconnaissance des entités nommées (NER), et l'analyse syntaxique, qui sont toutes utilisées pour informer la segmentation.\n",
        "\n",
        "  * **Segmentation Basée sur les Phrases** : SpaCy segmente le texte en phrases en utilisant ses capacités de détection des frontières de phrases. Cela se fait en reconnaissant les signes de ponctuation et les indices syntaxiques qui marquent la fin des phrases. Par exemple, le texte est segmenté en phrases en détectant les points, les points d'interrogation, les points d'exclamation, etc.\n",
        "\n",
        "  * **Respect des Limites de Longueur** : lors de la segmentation, `SpacyTextSplitter` respecte les limites de longueur spécifiées (par exemple, un nombre maximum de tokens ou de caractères par segment). L'algorithme combine les phrases pour former des segments qui sont aussi longs que possible sans dépasser la limite spécifiée. S'il rencontre une phrase qui ferait dépasser la limite, il termine le segment avant cette phrase et commence un nouveau segment.\n",
        "\n",
        "  * **Maintien de la Cohérence Contextuelle** : l'algorithme s'efforce de maintenir la cohérence contextuelle en évitant de couper au milieu des phrases ou des entités complexes. Il utilise les informations syntaxiques et sémantiques fournies par spaCy pour s'assurer que chaque segment reste grammaticalement et sémantiquement cohérent. Par exemple, il évitera de couper une entité nommée en deux ou de séparer une phrase principale de ses clauses dépendantes.\n"
      ]
    },
    {
      "cell_type": "code",
      "execution_count": null,
      "metadata": {
        "id": "R7ups12atP90"
      },
      "outputs": [],
      "source": [
        "! pip install spacy\n",
        "! python -m spacy download en_core_web_sm"
      ]
    },
    {
      "cell_type": "code",
      "execution_count": null,
      "metadata": {
        "colab": {
          "base_uri": "https://localhost:8080/"
        },
        "id": "1GkkGDPxtJyp",
        "outputId": "60cb17c2-8721-4457-9e9c-60f00652d09e"
      },
      "outputs": [
        {
          "name": "stdout",
          "output_type": "stream",
          "text": [
            "After split, there were 4 documents (chunks).\n",
            "page_content='Le droit des affaires, ou droit commercial, régit les relations juridiques entre les entreprises et leurs partenaires.\n",
            " \n",
            "\n",
            "Il inclut des domaines variés tels que le droit des sociétés, le droit des contrats commerciaux, et le droit de la concurrence.' metadata={'source': 'droit du business'}\n"
          ]
        }
      ],
      "source": [
        "from langchain_text_splitters import SpacyTextSplitter\n",
        "import spacy\n",
        "\n",
        "text = \"Le droit des affaires, ou droit commercial, régit les relations juridiques entre les entreprises et leurs partenaires.\\n Il inclut des domaines variés tels que le droit des sociétés, le droit des contrats commerciaux, et le droit de la concurrence.\\n Ce cadre juridique vise à garantir des transactions équitables et à protéger les intérêts des différentes parties prenantes.\\n\\nLes entreprises doivent se conformer à diverses réglementations pour assurer leur fonctionnement légal.\\n Cela comprend l'obtention de licences appropriées, le respect des lois sur la protection des données et la propriété intellectuelle, et l'adhésion aux normes de responsabilité sociale des entreprises.\\n En cas de litige, les entreprises peuvent recourir à des procédures judiciaires ou à des méthodes alternatives de résolution des conflits comme l'arbitrage ou la médiation.\"\n",
        "\n",
        "text_to_split = [Document(page_content=text, metadata={\"source\":\"droit du business\"})]\n",
        "\n",
        "spacy.load('en_core_web_sm')\n",
        "\n",
        "text_splitter = SpacyTextSplitter(chunk_size=300, chunk_overlap = 0)\n",
        "texts = text_splitter.split_documents(text_to_split)\n",
        "\n",
        "print(f'After split, there were {len(texts)} documents (chunks).')\n",
        "print(texts[0])\n"
      ]
    },
    {
      "cell_type": "markdown",
      "metadata": {
        "id": "nVHbqy_NnYhX"
      },
      "source": [
        "#**Embeddings**"
      ]
    },
    {
      "cell_type": "code",
      "execution_count": null,
      "metadata": {
        "id": "pkTmboS52DcY"
      },
      "outputs": [],
      "source": [
        "! pip install langchain_community"
      ]
    },
    {
      "cell_type": "code",
      "execution_count": null,
      "metadata": {
        "id": "_1EpNW022N49"
      },
      "outputs": [],
      "source": [
        "from langchain_community.embeddings import HuggingFaceEmbeddings\n",
        "\n",
        "huggingface_embeddings = HuggingFaceEmbeddings(\n",
        "                                  model_name= \"model_name\",  # to be replaced by the name of the embedding model\n",
        "                                  model_kwargs={'device':'cpu'},\n",
        "                                  encode_kwargs={'normalize_embeddings': True}\n",
        "                              )"
      ]
    },
    {
      "cell_type": "markdown",
      "metadata": {
        "id": "UZ446xCXVoin"
      },
      "source": [
        "##**Multilingual Embeddings**"
      ]
    },
    {
      "cell_type": "markdown",
      "metadata": {
        "id": "p53u8VHcV7W9"
      },
      "source": [
        "###**bge-m3**"
      ]
    },
    {
      "cell_type": "markdown",
      "metadata": {
        "id": "uOMWKMpocH_6"
      },
      "source": [
        "\n",
        "Le modèle d'embedding BGE-M3 se distingue par ses capacités avancées qui le rendent particulièrement polyvalent et adaptable à divers contextes de récupération d'information.\n",
        "  * Multifonctionnalité : Il peut exécuter simultanément les trois principales fonctionnalités de récupération courantes : la récupération dense, la récupération multi-vecteur et la récupération clairsemée.\n",
        "  * Multilinguisme : Il prend en charge plus de 100 langues, offrant une grande flexibilité linguistique.\n",
        "  * Multi-granularité : Il est capable de traiter des entrées de différentes longueurs, allant de phrases courtes à de longs documents contenant jusqu'à 8192 jetons.\n"
      ]
    },
    {
      "cell_type": "code",
      "execution_count": null,
      "metadata": {
        "id": "wkNyfEomWFQR"
      },
      "outputs": [],
      "source": [
        "https://huggingface.co/BAAI/bge-m3  # link to access the model"
      ]
    },
    {
      "cell_type": "markdown",
      "metadata": {
        "id": "M8HcvSq-ep0M"
      },
      "source": [
        "###**multilingual-e5-large-instruct**"
      ]
    },
    {
      "cell_type": "markdown",
      "metadata": {
        "id": "i7l2sHALes8c"
      },
      "source": [
        "Le modèle Multilingual E5 Large Instruct se distingue par ses capacités étendues dans divers domaines de traitement du langage naturel, offrant des fonctionnalités robustes pour une variété d'applications linguistiques avancées.\n",
        "  * Compréhension de texte multilingue : le modèle peut comprendre et représenter du texte dans plus de 100 langues, y compris des langues à faibles ressources.\n",
        "  * Compréhension du langage pédagogique : le modèle peut comprendre et suivre des instructions en langage naturel, ce qui le rend utile pour les applications interactives et le dialogue axé sur les tâches.\n",
        "  * Similarité sémantique du texte : le modèle peut mesurer avec précision la similarité sémantique entre les entrées de texte, ce qui est précieux pour des applications telles que la recherche d'informations et le regroupement de documents.\n",
        "  * Génération de texte : le modèle peut générer un texte pertinent et cohérent en fonction des invites de saisie, ce qui peut être utile pour des applications telles que la création de contenu et les systèmes"
      ]
    },
    {
      "cell_type": "code",
      "execution_count": null,
      "metadata": {
        "id": "rKRYN28zvaXs"
      },
      "outputs": [],
      "source": [
        "https://huggingface.co/intfloat/multilingual-e5-large-instruct # link to access the model"
      ]
    },
    {
      "cell_type": "markdown",
      "metadata": {
        "id": "VLw9G4AoV1j3"
      },
      "source": [
        "##**French Embeddings**"
      ]
    },
    {
      "cell_type": "markdown",
      "metadata": {
        "id": "k3S1tRrsGHiD"
      },
      "source": [
        "###**Sentence-CamemBERT-Large**"
      ]
    },
    {
      "cell_type": "markdown",
      "metadata": {
        "id": "g8J_V_7fOAF9"
      },
      "source": [
        "Sentence-CamemBERT-Large est un modèle d'intégration de phrases en français qui utilise une architecture basée sur BERT pour convertir les phrases en représentations vectorielles.\n",
        "  * **Pré-entraînement** : Sentence-CamemBERT-Large est affiné à partir du modèle Facebook/Camembert-Large, une version de BERT spécifiquement adaptée au français. Le modèle Facebook/Camembert-Large est pré-entraîné sur un vaste corpus de textes français. Ce processus permet au modèle d'apprendre les relations contextuelles entre les mots en français, améliorant ainsi sa capacité à comprendre et générer des représentations textuelles riches.\n",
        "  * **Fine-tuning avec Siamese BERT-Networks** : deux instances du modèle BERT, partageant les mêmes poids, sont utilisées pour produire des embeddings de phrases. Ces instances sont entraînées à générer des vecteurs similaires pour des paires de phrases qui sont sémantiquement similaires.\n",
        "\n",
        "  Le modèle est affiné en utilisant un large ensemble de paires de phrases françaises. Les données proviennent de diverses sources, telles que des commentaires Reddit, des résumés scientifiques et des paires question-réponse.\n",
        "\n",
        "  * **Encodage des phrases** : Le modèle prend en entrée une phrase ou un paragraphe de texte en français.\n",
        "\n",
        "  La phrase est traitée par Sentence-CamemBERT-Large, qui utilise des couches de transformateurs pour encoder le texte. Les transformateurs prennent en compte le contexte de chaque mot dans la phrase, ce qui permet de capturer les nuances et les relations contextuelles.\n",
        "\n",
        "  Le modèle génère une représentation vectorielle dense de 768 dimensions qui capture la signification sémantique de la phrase d'entrée."
      ]
    },
    {
      "cell_type": "code",
      "execution_count": null,
      "metadata": {
        "id": "8Xd1dJjLV5x9"
      },
      "outputs": [],
      "source": [
        "https://huggingface.co/dangvantuan/sentence-camembert-large # link to access the model"
      ]
    },
    {
      "cell_type": "markdown",
      "metadata": {
        "id": "pd9mZjlkPlwP"
      },
      "source": [
        "###**Flaubert**"
      ]
    },
    {
      "cell_type": "markdown",
      "metadata": {
        "id": "12Ewe_MRWPoS"
      },
      "source": [
        "Flaubert est un modèle de langage basé sur l'architecture Transformer, spécifiquement développé pour le français, adapté à diverses tâches de traitement automatique du langage naturel (TAL).\n",
        "  * **Pré-entraînement** : Flaubert est un modèle de langage basé sur l'architecture Transformer, développé spécifiquement pour la langue française. Il est pré-entraîné sur un vaste corpus de textes français, incluant des livres, des articles, des sites web, etc. Cela permet au modèle de comprendre et de traiter les nuances de la langue française de manière plus efficace.\n",
        "\n",
        "  Le pré-entraînement comprend des tâches comme la prédiction de mots masqués, similaire à BERT, pour apprendre des représentations contextuelles des mots. L'architecture bidirectionnelle de Flaubert lui permet de considérer le contexte des mots à la fois à gauche et à droite d'un mot cible, améliorant ainsi la compréhension contextuelle.\n",
        "\n",
        "  * **Fine-tuning** : Flaubert peut être affiné pour des tâches spécifiques en utilisant des données annotées pertinentes. Par exemple, pour la classification de texte, le modèle est ajusté en fonction des catégories cibles à prédire. Le fine-tuning permet d'adapter le modèle aux ensembles de données et aux tâches spécifiques, comme la classification de texte, la détection d'entités nommées, l'analyse des sentiments, et plus encore.\n",
        "\n",
        "  * **Encodage des phrases** : Le modèle prend en entrée une phrase ou un paragraphe de texte en français. La phrase est traitée par Flaubert, qui utilise des couches de transformateurs pour encoder le texte. Les transformateurs prennent en compte le contexte de chaque mot dans la phrase, ce qui permet de capturer les nuances et les relations contextuelles. Le modèle génère une représentation vectorielle dense qui capture la signification sémantique de la phrase d'entrée."
      ]
    },
    {
      "cell_type": "code",
      "execution_count": null,
      "metadata": {
        "id": "flYXHrNJWOSt"
      },
      "outputs": [],
      "source": [
        "https://huggingface.co/flaubert/flaubert_base_cased # link to access the model"
      ]
    },
    {
      "cell_type": "markdown",
      "metadata": {
        "id": "xY9TXU5UWuaV"
      },
      "source": [
        "###**Barthez**"
      ]
    },
    {
      "cell_type": "markdown",
      "metadata": {
        "id": "UentLOFmg828"
      },
      "source": [
        "BarThez est un modèle de langage français basé sur Transformer, pré-entraîné sur un large corpus de textes pour capturer les nuances et spécificités de la langue.\n",
        "  * **Pré-entraînement** : BarThez est un modèle de langage basé sur l'architecture Transformer, développé spécifiquement pour le français. Il est pré-entraîné sur un vaste corpus de textes français couvrant divers domaines et genres. Ce processus permet au modèle de comprendre les nuances et les particularités de la langue française.\n",
        "\n",
        "  Le pré-entraînement de BarThez inclut des tâches comme la prédiction de mots masqués, similaire à BERT, et la génération de texte, similaire à GPT. Cela permet au modèle d'apprendre des représentations contextuelles riches et d'exceller à la fois dans les tâches de compréhension et de génération de texte.\n",
        "\n",
        "  * **Fine-tuning** : BarThez peut être affiné pour des tâches spécifiques en utilisant des ensembles de données annotés. Par exemple, il peut être ajusté pour des tâches de classification de texte, de génération de résumé, de réponse à des questions, etc. Le fine-tuning permet au modèle de s'adapter aux particularités des données et des tâches spécifiques.\n",
        "\n",
        "  * **Encodage des phrases** : Le modèle prend en entrée une phrase ou un paragraphe de texte en français. La phrase est traitée par BarThez, qui utilise des couches de transformateurs pour encoder le texte. Les transformateurs considèrent le contexte global du texte, permettant ainsi de capturer les relations contextuelles et les nuances sémantiques.\n",
        "\n",
        "  BarThez génère une représentation vectorielle dense qui capture la signification sémantique du texte d'entrée. Cette représentation vectorielle peut ensuite être utilisée pour diverses tâches de traitement du langage naturel."
      ]
    },
    {
      "cell_type": "code",
      "execution_count": null,
      "metadata": {
        "id": "8_Q-riW4g76Y"
      },
      "outputs": [],
      "source": [
        "https://github.com/moussaKam/BARThez   # link to access the model"
      ]
    }
  ],
  "metadata": {
    "colab": {
      "collapsed_sections": [
        "rfN9V50rnfwT",
        "rD9nD5I4n0FL",
        "6JZojtJann7-",
        "dzbGKzYmn-sX",
        "9N5g9mN_oDQK",
        "J9OIS-Lko-iA",
        "n11Hmrj6tKYQ",
        "nVHbqy_NnYhX",
        "p53u8VHcV7W9",
        "M8HcvSq-ep0M",
        "k3S1tRrsGHiD",
        "pd9mZjlkPlwP",
        "xY9TXU5UWuaV"
      ],
      "provenance": []
    },
    "kernelspec": {
      "display_name": "Python 3",
      "name": "python3"
    },
    "language_info": {
      "name": "python"
    }
  },
  "nbformat": 4,
  "nbformat_minor": 0
}
